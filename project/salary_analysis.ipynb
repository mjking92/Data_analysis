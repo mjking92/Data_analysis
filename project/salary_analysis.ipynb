{
 "cells": [
  {
   "cell_type": "code",
   "execution_count": 3,
   "id": "915d1e0f",
   "metadata": {},
   "outputs": [],
   "source": [
    "import ast\n",
    "import pandas as pd\n",
    "import seaborn as sns \n",
    "from datasets import load_dataset\n",
    "import matplotlib.pyplot as plt \n",
    "from matplotlib.ticker import PercentFormatter\n",
    "\n",
    "# Loading the Dataset \n",
    "dataset = load_dataset('lukebarousse/data_jobs')\n",
    "df = dataset['train'].to_pandas()\n",
    "\n",
    "# Initial Clean-up\n",
    "df['job_posted_date'] = pd.to_datetime(df['job_posted_date'])\n",
    "df['job_skills'] = df['job_skills'].apply(lambda x: ast.literal_eval(x) if pd.notna(x) else x)"
   ]
  },
  {
   "cell_type": "code",
   "execution_count": 4,
   "id": "2272f5a1",
   "metadata": {},
   "outputs": [],
   "source": [
    "# Countries of interest: UK, France, Netherlands, Germany, Belgium\n",
    "\n",
    "countries = ['United Kingdom', 'France', 'Netherlands', 'Germany', 'Belgium']\n",
    "\n",
    "df_eu = df[df['job_country'].isin(countries)]\n",
    "df_eu['job_country'].unique().tolist()\n",
    "\n",
    "df_eu['job_title_short'].value_counts().head(8)\n",
    "\n",
    "job_titles = df_eu['job_title_short'].value_counts().index[:3].tolist()\n",
    "\n"
   ]
  },
  {
   "cell_type": "code",
   "execution_count": 5,
   "id": "7e4a49e4",
   "metadata": {},
   "outputs": [
    {
     "data": {
      "text/plain": [
       "job_title_short\n",
       "Data Analyst                 39346\n",
       "Data Engineer                39282\n",
       "Data Scientist               31553\n",
       "Senior Data Engineer          8137\n",
       "Senior Data Scientist         6205\n",
       "Business Analyst              4709\n",
       "Software Engineer             4165\n",
       "Senior Data Analyst           4091\n",
       "Machine Learning Engineer     1813\n",
       "Cloud Engineer                1399\n",
       "Name: count, dtype: int64"
      ]
     },
     "execution_count": 5,
     "metadata": {},
     "output_type": "execute_result"
    }
   ],
   "source": [
    "df_eu['job_title_short'].value_counts()"
   ]
  },
  {
   "cell_type": "code",
   "execution_count": 6,
   "id": "5f770ec2",
   "metadata": {},
   "outputs": [
    {
     "data": {
      "text/plain": [
       "['Data Analyst',\n",
       " 'Data Engineer',\n",
       " 'Data Scientist',\n",
       " 'Senior Data Analyst',\n",
       " 'Senior Data Scientist',\n",
       " 'Senior Data Engineer']"
      ]
     },
     "execution_count": 6,
     "metadata": {},
     "output_type": "execute_result"
    }
   ],
   "source": [
    "for job in df_eu['job_title_short'].unique():\n",
    "    if job.startswith('Senior'):\n",
    "        job_titles.append(job)\n",
    "\n",
    "\n",
    "job_titles"
   ]
  },
  {
   "cell_type": "code",
   "execution_count": 7,
   "id": "a9c2328b",
   "metadata": {},
   "outputs": [
    {
     "data": {
      "text/plain": [
       "job_title_short\n",
       "Data Analyst             39346\n",
       "Data Engineer            39282\n",
       "Data Scientist           31553\n",
       "Senior Data Engineer      8137\n",
       "Senior Data Scientist     6205\n",
       "Senior Data Analyst       4091\n",
       "Name: count, dtype: int64"
      ]
     },
     "execution_count": 7,
     "metadata": {},
     "output_type": "execute_result"
    }
   ],
   "source": [
    "df_eu_6 = df_eu[df_eu['job_title_short'].isin(job_titles)]\n",
    "df_eu_6['job_title_short'].value_counts()"
   ]
  },
  {
   "cell_type": "code",
   "execution_count": 8,
   "id": "f3b29f22",
   "metadata": {},
   "outputs": [
    {
     "data": {
      "text/html": [
       "<div>\n",
       "<style scoped>\n",
       "    .dataframe tbody tr th:only-of-type {\n",
       "        vertical-align: middle;\n",
       "    }\n",
       "\n",
       "    .dataframe tbody tr th {\n",
       "        vertical-align: top;\n",
       "    }\n",
       "\n",
       "    .dataframe thead th {\n",
       "        text-align: right;\n",
       "    }\n",
       "</style>\n",
       "<table border=\"1\" class=\"dataframe\">\n",
       "  <thead>\n",
       "    <tr style=\"text-align: right;\">\n",
       "      <th></th>\n",
       "      <th>count</th>\n",
       "      <th>mean</th>\n",
       "      <th>std</th>\n",
       "      <th>min</th>\n",
       "      <th>25%</th>\n",
       "      <th>50%</th>\n",
       "      <th>75%</th>\n",
       "      <th>max</th>\n",
       "    </tr>\n",
       "    <tr>\n",
       "      <th>job_title_short</th>\n",
       "      <th></th>\n",
       "      <th></th>\n",
       "      <th></th>\n",
       "      <th></th>\n",
       "      <th></th>\n",
       "      <th></th>\n",
       "      <th></th>\n",
       "      <th></th>\n",
       "    </tr>\n",
       "  </thead>\n",
       "  <tbody>\n",
       "    <tr>\n",
       "      <th>Data Analyst</th>\n",
       "      <td>210.0</td>\n",
       "      <td>91832.654762</td>\n",
       "      <td>37478.777552</td>\n",
       "      <td>30000.0</td>\n",
       "      <td>56700.0</td>\n",
       "      <td>89100.0</td>\n",
       "      <td>111175.0</td>\n",
       "      <td>200000.0</td>\n",
       "    </tr>\n",
       "    <tr>\n",
       "      <th>Data Engineer</th>\n",
       "      <td>195.0</td>\n",
       "      <td>117182.774359</td>\n",
       "      <td>35147.116287</td>\n",
       "      <td>35000.0</td>\n",
       "      <td>96773.0</td>\n",
       "      <td>98301.5</td>\n",
       "      <td>147500.0</td>\n",
       "      <td>249000.0</td>\n",
       "    </tr>\n",
       "    <tr>\n",
       "      <th>Data Scientist</th>\n",
       "      <td>198.0</td>\n",
       "      <td>111004.762626</td>\n",
       "      <td>41879.876639</td>\n",
       "      <td>33488.5</td>\n",
       "      <td>72900.0</td>\n",
       "      <td>93065.5</td>\n",
       "      <td>157500.0</td>\n",
       "      <td>205000.0</td>\n",
       "    </tr>\n",
       "    <tr>\n",
       "      <th>Senior Data Analyst</th>\n",
       "      <td>36.0</td>\n",
       "      <td>103184.263889</td>\n",
       "      <td>19561.941648</td>\n",
       "      <td>49566.5</td>\n",
       "      <td>89100.0</td>\n",
       "      <td>111175.0</td>\n",
       "      <td>111175.0</td>\n",
       "      <td>156500.0</td>\n",
       "    </tr>\n",
       "    <tr>\n",
       "      <th>Senior Data Engineer</th>\n",
       "      <td>71.0</td>\n",
       "      <td>132800.654930</td>\n",
       "      <td>29568.735812</td>\n",
       "      <td>45000.0</td>\n",
       "      <td>110886.5</td>\n",
       "      <td>147500.0</td>\n",
       "      <td>147500.0</td>\n",
       "      <td>171620.0</td>\n",
       "    </tr>\n",
       "    <tr>\n",
       "      <th>Senior Data Scientist</th>\n",
       "      <td>67.0</td>\n",
       "      <td>134748.895522</td>\n",
       "      <td>36310.601306</td>\n",
       "      <td>56700.0</td>\n",
       "      <td>89885.0</td>\n",
       "      <td>157500.0</td>\n",
       "      <td>157500.0</td>\n",
       "      <td>224500.0</td>\n",
       "    </tr>\n",
       "  </tbody>\n",
       "</table>\n",
       "</div>"
      ],
      "text/plain": [
       "                       count           mean           std      min       25%  \\\n",
       "job_title_short                                                                \n",
       "Data Analyst           210.0   91832.654762  37478.777552  30000.0   56700.0   \n",
       "Data Engineer          195.0  117182.774359  35147.116287  35000.0   96773.0   \n",
       "Data Scientist         198.0  111004.762626  41879.876639  33488.5   72900.0   \n",
       "Senior Data Analyst     36.0  103184.263889  19561.941648  49566.5   89100.0   \n",
       "Senior Data Engineer    71.0  132800.654930  29568.735812  45000.0  110886.5   \n",
       "Senior Data Scientist   67.0  134748.895522  36310.601306  56700.0   89885.0   \n",
       "\n",
       "                            50%       75%       max  \n",
       "job_title_short                                      \n",
       "Data Analyst            89100.0  111175.0  200000.0  \n",
       "Data Engineer           98301.5  147500.0  249000.0  \n",
       "Data Scientist          93065.5  157500.0  205000.0  \n",
       "Senior Data Analyst    111175.0  111175.0  156500.0  \n",
       "Senior Data Engineer   147500.0  147500.0  171620.0  \n",
       "Senior Data Scientist  157500.0  157500.0  224500.0  "
      ]
     },
     "execution_count": 8,
     "metadata": {},
     "output_type": "execute_result"
    }
   ],
   "source": [
    "df_eu_6.groupby('job_title_short')['salary_year_avg'].describe()"
   ]
  },
  {
   "cell_type": "code",
   "execution_count": 43,
   "id": "83dfb4dc",
   "metadata": {},
   "outputs": [
    {
     "data": {
      "text/plain": [
       "['Senior Data Scientist',\n",
       " 'Senior Data Engineer',\n",
       " 'Senior Data Analyst',\n",
       " 'Data Engineer',\n",
       " 'Data Scientist',\n",
       " 'Data Analyst']"
      ]
     },
     "execution_count": 43,
     "metadata": {},
     "output_type": "execute_result"
    }
   ],
   "source": [
    "job_order = df_eu_6.groupby('job_title_short')['salary_year_avg'].median().sort_values(ascending=False).index.tolist()\n",
    "job_order"
   ]
  },
  {
   "cell_type": "code",
   "execution_count": 58,
   "id": "8d91c133",
   "metadata": {},
   "outputs": [
    {
     "data": {
      "text/plain": [
       "job_title_short\n",
       "Data Analyst             210\n",
       "Data Scientist           198\n",
       "Data Engineer            195\n",
       "Senior Data Engineer      71\n",
       "Senior Data Scientist     67\n",
       "Senior Data Analyst       36\n",
       "Name: count, dtype: int64"
      ]
     },
     "execution_count": 58,
     "metadata": {},
     "output_type": "execute_result"
    }
   ],
   "source": [
    "df_eu_6 = df_eu_6[df_eu_6['salary_year_avg'].notna()]\n",
    "\n",
    "counts = df_eu_6['job_title_short'].value_counts()\n",
    "counts"
   ]
  },
  {
   "cell_type": "code",
   "execution_count": 63,
   "id": "9e32243c",
   "metadata": {},
   "outputs": [
    {
     "data": {
      "image/png": "[encoded data removed]",
      "text/plain": [
       "<Figure size 640x480 with 1 Axes>"
      ]
     },
     "metadata": {},
     "output_type": "display_data"
    }
   ],
   "source": [
    "yax_labels = [f'{job}\\n n={counts[job]}' for job in job_order]\n",
    "\n",
    "sns.boxplot(data=df_eu_6,\n",
    "            x='salary_year_avg',\n",
    "            y='job_title_short',\n",
    "            order=job_order,\n",
    "            medianprops=dict(color='orange', linewidth=1.5)\n",
    "            )\n",
    "sns.set_theme(style='ticks')\n",
    "\n",
    "plt.title('Salary Distribution in NW Europe')\n",
    "plt.xlabel('Annual Salary')\n",
    "plt.ylabel('')\n",
    "ticks_x = plt.FuncFormatter(lambda x, pos: f'${int(x/1000)}K')\n",
    "plt.gca().xaxis.set_major_formatter(ticks_x)\n",
    "plt.yticks(ticks=range(len(job_order)), labels=yax_labels)\n",
    "plt.show()\n"
   ]
  },
  {
   "cell_type": "code",
   "execution_count": 11,
   "id": "c1c3bbd0",
   "metadata": {},
   "outputs": [
    {
     "data": {
      "text/plain": [
       "array(['Data Analyst'], dtype=object)"
      ]
     },
     "execution_count": 11,
     "metadata": {},
     "output_type": "execute_result"
    }
   ],
   "source": [
    "df_eu_da = df[(df['job_country'].isin(countries)) & (df['job_title_short'] == 'Data Analyst')].copy()\n",
    "df_eu_da['job_country'].unique()\n",
    "df_eu_da['job_title_short'].unique()"
   ]
  },
  {
   "cell_type": "code",
   "execution_count": 12,
   "id": "06a5a38e",
   "metadata": {},
   "outputs": [],
   "source": [
    "df_eu_da = df_eu_da.dropna(subset=['salary_year_avg'])"
   ]
  },
  {
   "cell_type": "code",
   "execution_count": 13,
   "id": "ff769d40",
   "metadata": {},
   "outputs": [
    {
     "data": {
      "text/html": [
       "<div>\n",
       "<style scoped>\n",
       "    .dataframe tbody tr th:only-of-type {\n",
       "        vertical-align: middle;\n",
       "    }\n",
       "\n",
       "    .dataframe tbody tr th {\n",
       "        vertical-align: top;\n",
       "    }\n",
       "\n",
       "    .dataframe thead th {\n",
       "        text-align: right;\n",
       "    }\n",
       "</style>\n",
       "<table border=\"1\" class=\"dataframe\">\n",
       "  <thead>\n",
       "    <tr style=\"text-align: right;\">\n",
       "      <th></th>\n",
       "      <th>salary_year_avg</th>\n",
       "      <th>job_skills</th>\n",
       "    </tr>\n",
       "  </thead>\n",
       "  <tbody>\n",
       "    <tr>\n",
       "      <th>2602</th>\n",
       "      <td>51014.0</td>\n",
       "      <td>excel</td>\n",
       "    </tr>\n",
       "    <tr>\n",
       "      <th>2602</th>\n",
       "      <td>51014.0</td>\n",
       "      <td>word</td>\n",
       "    </tr>\n",
       "    <tr>\n",
       "      <th>2602</th>\n",
       "      <td>51014.0</td>\n",
       "      <td>outlook</td>\n",
       "    </tr>\n",
       "    <tr>\n",
       "      <th>12526</th>\n",
       "      <td>111175.0</td>\n",
       "      <td>power bi</td>\n",
       "    </tr>\n",
       "    <tr>\n",
       "      <th>12526</th>\n",
       "      <td>111175.0</td>\n",
       "      <td>sharepoint</td>\n",
       "    </tr>\n",
       "  </tbody>\n",
       "</table>\n",
       "</div>"
      ],
      "text/plain": [
       "       salary_year_avg  job_skills\n",
       "2602           51014.0       excel\n",
       "2602           51014.0        word\n",
       "2602           51014.0     outlook\n",
       "12526         111175.0    power bi\n",
       "12526         111175.0  sharepoint"
      ]
     },
     "execution_count": 13,
     "metadata": {},
     "output_type": "execute_result"
    }
   ],
   "source": [
    "df_eu_da_exp = df_eu_da.explode('job_skills')\n",
    "df_eu_da_exp[['salary_year_avg', 'job_skills']].head()"
   ]
  },
  {
   "cell_type": "code",
   "execution_count": 14,
   "id": "e44a1c77",
   "metadata": {},
   "outputs": [],
   "source": [
    "df_da_pay = df_eu_da_exp.groupby('job_skills')['salary_year_avg'].agg(['count', 'median']).sort_values(by='median', ascending=False)"
   ]
  },
  {
   "cell_type": "code",
   "execution_count": 15,
   "id": "60d181c6",
   "metadata": {},
   "outputs": [
    {
     "data": {
      "text/html": [
       "<div>\n",
       "<style scoped>\n",
       "    .dataframe tbody tr th:only-of-type {\n",
       "        vertical-align: middle;\n",
       "    }\n",
       "\n",
       "    .dataframe tbody tr th {\n",
       "        vertical-align: top;\n",
       "    }\n",
       "\n",
       "    .dataframe thead th {\n",
       "        text-align: right;\n",
       "    }\n",
       "</style>\n",
       "<table border=\"1\" class=\"dataframe\">\n",
       "  <thead>\n",
       "    <tr style=\"text-align: right;\">\n",
       "      <th></th>\n",
       "      <th>count</th>\n",
       "      <th>median</th>\n",
       "    </tr>\n",
       "    <tr>\n",
       "      <th>job_skills</th>\n",
       "      <th></th>\n",
       "      <th></th>\n",
       "    </tr>\n",
       "  </thead>\n",
       "  <tbody>\n",
       "    <tr>\n",
       "      <th>tensorflow</th>\n",
       "      <td>1</td>\n",
       "      <td>177283.00</td>\n",
       "    </tr>\n",
       "    <tr>\n",
       "      <th>pytorch</th>\n",
       "      <td>1</td>\n",
       "      <td>177283.00</td>\n",
       "    </tr>\n",
       "    <tr>\n",
       "      <th>terraform</th>\n",
       "      <td>2</td>\n",
       "      <td>165100.75</td>\n",
       "    </tr>\n",
       "    <tr>\n",
       "      <th>nosql</th>\n",
       "      <td>8</td>\n",
       "      <td>165000.00</td>\n",
       "    </tr>\n",
       "    <tr>\n",
       "      <th>mongodb</th>\n",
       "      <td>2</td>\n",
       "      <td>165000.00</td>\n",
       "    </tr>\n",
       "    <tr>\n",
       "      <th>aurora</th>\n",
       "      <td>1</td>\n",
       "      <td>165000.00</td>\n",
       "    </tr>\n",
       "    <tr>\n",
       "      <th>mysql</th>\n",
       "      <td>3</td>\n",
       "      <td>165000.00</td>\n",
       "    </tr>\n",
       "    <tr>\n",
       "      <th>postgresql</th>\n",
       "      <td>1</td>\n",
       "      <td>165000.00</td>\n",
       "    </tr>\n",
       "    <tr>\n",
       "      <th>kafka</th>\n",
       "      <td>5</td>\n",
       "      <td>163782.00</td>\n",
       "    </tr>\n",
       "    <tr>\n",
       "      <th>gitlab</th>\n",
       "      <td>1</td>\n",
       "      <td>163782.00</td>\n",
       "    </tr>\n",
       "  </tbody>\n",
       "</table>\n",
       "</div>"
      ],
      "text/plain": [
       "            count     median\n",
       "job_skills                  \n",
       "tensorflow      1  177283.00\n",
       "pytorch         1  177283.00\n",
       "terraform       2  165100.75\n",
       "nosql           8  165000.00\n",
       "mongodb         2  165000.00\n",
       "aurora          1  165000.00\n",
       "mysql           3  165000.00\n",
       "postgresql      1  165000.00\n",
       "kafka           5  163782.00\n",
       "gitlab          1  163782.00"
      ]
     },
     "execution_count": 15,
     "metadata": {},
     "output_type": "execute_result"
    }
   ],
   "source": [
    "df_da_pay = df_da_pay.head(10)\n",
    "df_da_pay"
   ]
  },
  {
   "cell_type": "code",
   "execution_count": null,
   "id": "b3df9f80",
   "metadata": {},
   "outputs": [],
   "source": [
    "df_da_count = df_eu_da_exp.groupby('job_skills')['salary_year_avg'].agg(['count', 'median']).sort_values(by='count', ascending=False)"
   ]
  },
  {
   "cell_type": "code",
   "execution_count": 32,
   "id": "2f19f1d4",
   "metadata": {},
   "outputs": [],
   "source": [
    "df_da_count = df_da_count.head(10)\n",
    "df_da_count.sort_values(by='median', ascending=False, inplace=True)"
   ]
  },
  {
   "cell_type": "code",
   "execution_count": 80,
   "id": "047f03eb",
   "metadata": {},
   "outputs": [
    {
     "data": {
      "image/png": "[encoded data removed]",
      "text/plain": [
       "<Figure size 640x480 with 2 Axes>"
      ]
     },
     "metadata": {},
     "output_type": "display_data"
    }
   ],
   "source": [
    "fig, ax = plt.subplots(2, 1)\n",
    "\n",
    "sns.set_theme(style='ticks')\n",
    "\n",
    "sns.barplot(data=df_da_pay,\n",
    "            x='median',\n",
    "            y=df_da_pay.index,\n",
    "            hue='median',\n",
    "            ax=ax[0],\n",
    "            palette='dark:b_r'\n",
    "            )\n",
    "ax[0].legend().remove()\n",
    "ax[0].set_title('Top Ten Best-Paid Skills for Data Analysts in NW EU')\n",
    "ax[0].set_ylabel('')\n",
    "ax[0].set_xlabel('')\n",
    "ax[0].set_xlim(50000, 180000)\n",
    "ax[0].xaxis.set_major_formatter(plt.FuncFormatter(lambda x, pos: f'${int(x/1000)}K'))\n",
    "\n",
    "sns.barplot(data=df_da_count,\n",
    "            x='median',\n",
    "            y=df_da_count.index,\n",
    "            ax=ax[1],\n",
    "            hue='median',\n",
    "            palette='light:b',\n",
    "            )\n",
    "ax[1].legend().remove()\n",
    "ax[1].set_title('Top Ten Most Desired Skills for Data Analysts in NW EU')\n",
    "ax[1].set_ylabel('')\n",
    "ax[1].set_xlabel('')\n",
    "ax[1].set_xlim(50000, 180000)\n",
    "ax[1].xaxis.set_major_formatter(plt.FuncFormatter(lambda x, pos: f'${int(x/1000)}K'))\n",
    "\n",
    "plt.tight_layout()\n",
    "plt.show()\n"
   ]
  },
  {
   "cell_type": "code",
   "execution_count": null,
   "id": "24aed450",
   "metadata": {},
   "outputs": [],
   "source": []
  }
 ],
 "metadata": {
  "kernelspec": {
   "display_name": "Python (luke_env)",
   "language": "python",
   "name": "luke_env"
  },
  "language_info": {
   "codemirror_mode": {
    "name": "ipython",
    "version": 3
   },
   "file_extension": ".py",
   "mimetype": "text/x-python",
   "name": "python",
   "nbconvert_exporter": "python",
   "pygments_lexer": "ipython3",
   "version": "3.11.7"
  }
 },
 "nbformat": 4,
 "nbformat_minor": 5
}
